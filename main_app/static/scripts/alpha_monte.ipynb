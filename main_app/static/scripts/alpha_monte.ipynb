{
 "cells": [
  {
   "cell_type": "code",
   "execution_count": 15,
   "metadata": {},
   "outputs": [],
   "source": [
    "import pandas as pd\n",
    "import numpy as np\n",
    "import matplotlib.pyplot as plt, mpld3\n",
    "\n",
    "from matplotlib.backends.backend_agg import FigureCanvasAgg\n",
    "from django.http import HttpResponse\n",
    "\n",
    "from alpha_vantage.timeseries import TimeSeries\n",
    "\n",
    "ts = TimeSeries(key=\"3P9NBZQR6NNO2VEF\")\n",
    "portfolio = {\n",
    "    \"tickers\": [\"MSFT\", \"AAPL\"]\n",
    "}\n",
    "\n",
    "###############\n",
    "# Static Test #\n",
    "###############\n",
    "\n",
    "# data, _ = ts.get_daily_adjusted(\"MSFT\")\n",
    "# price_ticker = data['2021-12-01']['5. adjusted close']\n",
    "# print(f'MSFT: {price_ticker}')\n",
    "\n",
    "#####################\n",
    "# TEST API: 1 stock #\n",
    "#####################\n",
    "\n",
    "# Function Test\n",
    "# def last_price_data(ticker):\n",
    "#     ts = TimeSeries(key=\"3P9NBZQR6NNO2VEF\")\n",
    "#     data, _ = ts.get_daily_adjusted(ticker)\n",
    "    \n",
    "#     price_ticker = data['2021-12-01']['5. adjusted close']\n",
    "#     message = f'{ticker}: {price_ticker}'\n",
    "    \n",
    "#     return message\n",
    "\n",
    "# print(last_price_data(\"MSFT\"))"
   ]
  },
  {
   "cell_type": "code",
   "execution_count": 2,
   "metadata": {},
   "outputs": [],
   "source": [
    "\"\"\" API: Returns a dictionary of tickers and historical prices \"\"\"\n",
    "def get_hist_prices(tickers):\n",
    "    stocks_hist_prices = {}\n",
    "\n",
    "    for ticker in tickers: \n",
    "        data, _ = ts.get_daily_adjusted(ticker, 'full')\n",
    "        price_array = data\n",
    "        stocks_hist_prices[ticker] = price_array\n",
    "\n",
    "        # Log progress\n",
    "        print(f'{ticker}: {data[\"2021-12-01\"][\"5. adjusted close\"]}')\n",
    "    \n",
    "    return stocks_hist_prices"
   ]
  },
  {
   "cell_type": "code",
   "execution_count": null,
   "metadata": {},
   "outputs": [],
   "source": [
    "get_hist_prices(portfolio[\"tickers\"])"
   ]
  },
  {
   "cell_type": "code",
   "execution_count": 4,
   "metadata": {},
   "outputs": [],
   "source": [
    "\"\"\" Processing: Returns df of stock daily returns (% change) \"\"\"\n",
    "def get_stock_daily_returns(tickers):\n",
    "    data_frames = []\n",
    "\n",
    "    stocks_hist_prices = get_hist_prices(tickers)\n",
    "\n",
    "    # Generate array of dataframes\n",
    "    for stock in stocks_hist_prices:\n",
    "\n",
    "        df = pd.DataFrame.from_dict(stocks_hist_prices[stock], orient='index')\n",
    "\n",
    "        # Post-Processing: Table: ticker | adj_close, Data Limit: 1 year\n",
    "        df = df[:250]\n",
    "        df['ticker'] = stock\n",
    "        df = df[['ticker','5. adjusted close']]\n",
    "\n",
    "        df.rename(columns={'5. adjusted close': 'adj_close'}, inplace=True, errors='raise')\n",
    "        df['adj_close'] = df['adj_close'].astype('float64')\n",
    "\n",
    "        data_frames.append(df)\n",
    "\n",
    "    # Merge DF\n",
    "    df_merged = pd.concat(data_frames)\n",
    "    df_merged.reset_index(inplace=True)\n",
    "    df_merged.rename(columns= {\"index\": \"date\"}, inplace=True, errors='raise')\n",
    "\n",
    "    # Generate daily returns (% Change)\n",
    "    df_pivot = df_merged.pivot(index='date', columns='ticker')\n",
    "    returns_daily = df_pivot.pct_change()\n",
    "\n",
    "    # print(returns_daily.head())\n",
    "\n",
    "    return returns_daily"
   ]
  },
  {
   "cell_type": "code",
   "execution_count": null,
   "metadata": {},
   "outputs": [],
   "source": [
    "get_stock_daily_returns(portfolio[\"tickers\"])\n",
    "# get_stock_daily_returns(portfolio[\"tickers\"]).mean()*250"
   ]
  },
  {
   "cell_type": "code",
   "execution_count": null,
   "metadata": {},
   "outputs": [],
   "source": [
    "\"\"\" Simulation: Returns a table with rows for returns, volatility, weights, sharpe ratio \"\"\"\n",
    "def get_simulation(tickers):\n",
    "    returns_daily = get_stock_daily_returns(tickers)\n",
    "    returns_annual = returns_daily.mean() * 250\n",
    "\n",
    "    # Config simulation\n",
    "    cov_daily = returns_daily.cov()\n",
    "    cov_annual = cov_daily * 250\n",
    "\n",
    "    port_returns = []\n",
    "    port_volatility = []\n",
    "    stock_weights = []\n",
    "\n",
    "    num_assets = len(portfolio[\"tickers\"])\n",
    "    num_portfolios = 1000\n",
    "\n",
    "    # Run simulation\n",
    "    for single_portfolio in range(num_portfolios):\n",
    "        weights = np.random.random(num_assets)\n",
    "        weights /= np.sum(weights)\n",
    "        \n",
    "        returns = np.sum(weights * returns_annual)\n",
    "        volatility = np.sqrt(np.dot(weights.T, np.dot(cov_annual, weights)))\n",
    "\n",
    "        port_returns.append(returns)\n",
    "        port_volatility.append(volatility)\n",
    "        stock_weights.append(weights)\n",
    "    \n",
    "    portfolio_stats = {'Returns': port_returns,\n",
    "             'Volatility': port_volatility}\n",
    "\n",
    "    for counter,symbol in enumerate(portfolio[\"tickers\"]):\n",
    "        portfolio_stats[symbol+' Weight'] = [Weight[counter] for Weight in stock_weights]\n",
    "\n",
    "    # Summary Table: get better labels for desired arrangement of columns\n",
    "    df = pd.DataFrame(portfolio_stats)\n",
    "    column_order = ['Returns', 'Volatility'] + [stock+' Weight' for stock in portfolio[\"tickers\"]]\n",
    "    df = df[column_order]\n",
    "\n",
    "    df['sharpe_ratio'] = df['Returns']/df['Volatility']\n",
    "    max_index = df['sharpe_ratio'].idxmax()\n",
    "    max_row = df.iloc[max_index]\n",
    "\n",
    "    return max_row"
   ]
  },
  {
   "cell_type": "code",
   "execution_count": 35,
   "metadata": {},
   "outputs": [
    {
     "name": "stdout",
     "output_type": "stream",
     "text": [
      "MSFT: 330.08\n",
      "AAPL: 164.77\n"
     ]
    },
    {
     "data": {
      "text/plain": [
       "Returns         0.462424\n",
       "Volatility      0.201017\n",
       "MSFT Weight     0.000035\n",
       "AAPL Weight     0.999965\n",
       "sharpe_ratio    2.300426\n",
       "Name: 19900, dtype: float64"
      ]
     },
     "execution_count": 35,
     "metadata": {},
     "output_type": "execute_result"
    }
   ],
   "source": [
    "get_simulation(portfolio[\"tickers\"])"
   ]
  },
  {
   "cell_type": "code",
   "execution_count": 18,
   "metadata": {},
   "outputs": [],
   "source": [
    "\"\"\" Simulation Plot: Returns a plot \"\"\"\n",
    "def get_simulation_image(tickers):\n",
    "    returns_daily = get_stock_daily_returns(tickers)\n",
    "    returns_annual = returns_daily.mean() * 250\n",
    "\n",
    "    # Config simulation\n",
    "    cov_daily = returns_daily.cov()\n",
    "    cov_annual = cov_daily * 250\n",
    "\n",
    "    port_returns = []\n",
    "    port_volatility = []\n",
    "    stock_weights = []\n",
    "\n",
    "    num_assets = len(portfolio[\"tickers\"])\n",
    "    num_portfolios = 50000\n",
    "\n",
    "    # Run simulation\n",
    "    for single_portfolio in range(num_portfolios):\n",
    "        weights = np.random.random(num_assets)\n",
    "        weights /= np.sum(weights)\n",
    "        \n",
    "        returns = np.sum(weights * returns_annual)\n",
    "        volatility = np.sqrt(np.dot(weights.T, np.dot(cov_annual, weights)))\n",
    "\n",
    "        port_returns.append(returns)\n",
    "        port_volatility.append(volatility)\n",
    "        stock_weights.append(weights)\n",
    "    \n",
    "    portfolio_stats = {'Returns': port_returns,\n",
    "             'Volatility': port_volatility}\n",
    "\n",
    "    for counter,symbol in enumerate(portfolio[\"tickers\"]):\n",
    "        portfolio_stats[symbol+' Weight'] = [Weight[counter] for Weight in stock_weights]\n",
    "\n",
    "    # Summary Table: get better labels for desired arrangement of columns\n",
    "    df = pd.DataFrame(portfolio_stats)\n",
    "    column_order = ['Returns', 'Volatility'] + [stock+' Weight' for stock in portfolio[\"tickers\"]]\n",
    "    df = df[column_order]\n",
    "\n",
    "    # Config.: Create new figure and use Seaborn style\n",
    "    fig = plt.figure()\n",
    "    plt.style.use('seaborn')\n",
    "\n",
    "    # Plot using df\n",
    "    df.plot.scatter(x='Volatility', y='Returns', figsize=(10, 8), grid=True)\n",
    "\n",
    "    # Find Max Sharpe and mark it on the plot\n",
    "    returns = np.array(port_returns)\n",
    "    risk = np.array(port_volatility)\n",
    "    max_idx = np.where(returns / risk == np.max(returns / risk))[0][0]\n",
    "    plt.plot(port_volatility[max_idx], port_returns[max_idx], 'o', color='C2')\n",
    "\n",
    "    # Add labels\n",
    "    plt.xlabel('Volatility (Std. Deviation)')\n",
    "    plt.ylabel('Expected Returns')\n",
    "    plt.title('Efficient Frontier')\n",
    "    # plt.show()\n",
    "\n",
    "    # Generate response:\n",
    "    # StackOverflow (V1): https://stackoverflow.com/questions/40534715/how-to-embed-matplotlib-graph-in-django-webpage\n",
    "    # StackOverflow (V2): https://stackoverflow.com/questions/55216855/getting-attribute-error-module-matplotlib-pyplot-has-no-attribute-canvas?newreg=c1544c5c67514d43950a3ca996cad9d1\n",
    "\n",
    "    html_fig = mpld3.fig_to_html(fig)\n",
    "    response = HttpResponse(html_fig)\n",
    "\n",
    "    return response\n"
   ]
  },
  {
   "cell_type": "code",
   "execution_count": 19,
   "metadata": {},
   "outputs": [
    {
     "name": "stdout",
     "output_type": "stream",
     "text": [
      "MSFT: 330.08\n",
      "AAPL: 164.77\n"
     ]
    },
    {
     "ename": "AttributeError",
     "evalue": "module 'matplotlib.pyplot' has no attribute 'canvas'",
     "output_type": "error",
     "traceback": [
      "\u001b[0;31m---------------------------------------------------------------------------\u001b[0m",
      "\u001b[0;31mAttributeError\u001b[0m                            Traceback (most recent call last)",
      "\u001b[0;32m<ipython-input-19-4c5cfccd3db9>\u001b[0m in \u001b[0;36m<module>\u001b[0;34m\u001b[0m\n\u001b[0;32m----> 1\u001b[0;31m \u001b[0mget_simulation_image\u001b[0m\u001b[0;34m(\u001b[0m\u001b[0mportfolio\u001b[0m\u001b[0;34m[\u001b[0m\u001b[0;34m\"tickers\"\u001b[0m\u001b[0;34m]\u001b[0m\u001b[0;34m)\u001b[0m\u001b[0;34m\u001b[0m\u001b[0;34m\u001b[0m\u001b[0m\n\u001b[0m",
      "\u001b[0;32m<ipython-input-18-7a9bdaafa2ff>\u001b[0m in \u001b[0;36mget_simulation_image\u001b[0;34m(tickers)\u001b[0m\n\u001b[1;32m     61\u001b[0m     \u001b[0;31m# StackOverflow (V2): https://stackoverflow.com/questions/55216855/getting-attribute-error-module-matplotlib-pyplot-has-no-attribute-canvas?newreg=c1544c5c67514d43950a3ca996cad9d1\u001b[0m\u001b[0;34m\u001b[0m\u001b[0;34m\u001b[0m\u001b[0;34m\u001b[0m\u001b[0m\n\u001b[1;32m     62\u001b[0m \u001b[0;34m\u001b[0m\u001b[0m\n\u001b[0;32m---> 63\u001b[0;31m     \u001b[0mhtml_fig\u001b[0m \u001b[0;34m=\u001b[0m \u001b[0mmpld3\u001b[0m\u001b[0;34m.\u001b[0m\u001b[0mfig_to_html\u001b[0m\u001b[0;34m(\u001b[0m\u001b[0mplt\u001b[0m\u001b[0;34m,\u001b[0m\u001b[0mtemplate_type\u001b[0m\u001b[0;34m=\u001b[0m\u001b[0;34m'general'\u001b[0m\u001b[0;34m)\u001b[0m\u001b[0;34m\u001b[0m\u001b[0;34m\u001b[0m\u001b[0m\n\u001b[0m\u001b[1;32m     64\u001b[0m     \u001b[0mresponse\u001b[0m \u001b[0;34m=\u001b[0m \u001b[0mHttpResponse\u001b[0m\u001b[0;34m(\u001b[0m\u001b[0mhtml_fig\u001b[0m\u001b[0;34m)\u001b[0m\u001b[0;34m\u001b[0m\u001b[0;34m\u001b[0m\u001b[0m\n\u001b[1;32m     65\u001b[0m \u001b[0;34m\u001b[0m\u001b[0m\n",
      "\u001b[0;32m/usr/local/anaconda3/envs/djangoenv/lib/python3.6/site-packages/mpld3/_display.py\u001b[0m in \u001b[0;36mfig_to_html\u001b[0;34m(fig, d3_url, mpld3_url, no_extras, template_type, figid, use_http, include_libraries, **kwargs)\u001b[0m\n\u001b[1;32m    248\u001b[0m \u001b[0;34m\u001b[0m\u001b[0m\n\u001b[1;32m    249\u001b[0m     \u001b[0mrenderer\u001b[0m \u001b[0;34m=\u001b[0m \u001b[0mMPLD3Renderer\u001b[0m\u001b[0;34m(\u001b[0m\u001b[0;34m)\u001b[0m\u001b[0;34m\u001b[0m\u001b[0;34m\u001b[0m\u001b[0m\n\u001b[0;32m--> 250\u001b[0;31m     \u001b[0mExporter\u001b[0m\u001b[0;34m(\u001b[0m\u001b[0mrenderer\u001b[0m\u001b[0;34m,\u001b[0m \u001b[0mclose_mpl\u001b[0m\u001b[0;34m=\u001b[0m\u001b[0;32mFalse\u001b[0m\u001b[0;34m,\u001b[0m \u001b[0;34m**\u001b[0m\u001b[0mkwargs\u001b[0m\u001b[0;34m)\u001b[0m\u001b[0;34m.\u001b[0m\u001b[0mrun\u001b[0m\u001b[0;34m(\u001b[0m\u001b[0mfig\u001b[0m\u001b[0;34m)\u001b[0m\u001b[0;34m\u001b[0m\u001b[0;34m\u001b[0m\u001b[0m\n\u001b[0m\u001b[1;32m    251\u001b[0m \u001b[0;34m\u001b[0m\u001b[0m\n\u001b[1;32m    252\u001b[0m     \u001b[0mfig\u001b[0m\u001b[0;34m,\u001b[0m \u001b[0mfigure_json\u001b[0m\u001b[0;34m,\u001b[0m \u001b[0mextra_css\u001b[0m\u001b[0;34m,\u001b[0m \u001b[0mextra_js\u001b[0m \u001b[0;34m=\u001b[0m \u001b[0mrenderer\u001b[0m\u001b[0;34m.\u001b[0m\u001b[0mfinished_figures\u001b[0m\u001b[0;34m[\u001b[0m\u001b[0;36m0\u001b[0m\u001b[0;34m]\u001b[0m\u001b[0;34m\u001b[0m\u001b[0;34m\u001b[0m\u001b[0m\n",
      "\u001b[0;32m/usr/local/anaconda3/envs/djangoenv/lib/python3.6/site-packages/mpld3/mplexporter/exporter.py\u001b[0m in \u001b[0;36mrun\u001b[0;34m(self, fig)\u001b[0m\n\u001b[1;32m     43\u001b[0m         \u001b[0;31m# Calling savefig executes the draw() command, putting elements\u001b[0m\u001b[0;34m\u001b[0m\u001b[0;34m\u001b[0m\u001b[0;34m\u001b[0m\u001b[0m\n\u001b[1;32m     44\u001b[0m         \u001b[0;31m# in the correct place.\u001b[0m\u001b[0;34m\u001b[0m\u001b[0;34m\u001b[0m\u001b[0;34m\u001b[0m\u001b[0m\n\u001b[0;32m---> 45\u001b[0;31m         \u001b[0;32mif\u001b[0m \u001b[0mfig\u001b[0m\u001b[0;34m.\u001b[0m\u001b[0mcanvas\u001b[0m \u001b[0;32mis\u001b[0m \u001b[0;32mNone\u001b[0m\u001b[0;34m:\u001b[0m\u001b[0;34m\u001b[0m\u001b[0;34m\u001b[0m\u001b[0m\n\u001b[0m\u001b[1;32m     46\u001b[0m             \u001b[0mcanvas\u001b[0m \u001b[0;34m=\u001b[0m \u001b[0mFigureCanvasAgg\u001b[0m\u001b[0;34m(\u001b[0m\u001b[0mfig\u001b[0m\u001b[0;34m)\u001b[0m\u001b[0;34m\u001b[0m\u001b[0;34m\u001b[0m\u001b[0m\n\u001b[1;32m     47\u001b[0m         \u001b[0mfig\u001b[0m\u001b[0;34m.\u001b[0m\u001b[0msavefig\u001b[0m\u001b[0;34m(\u001b[0m\u001b[0mio\u001b[0m\u001b[0;34m.\u001b[0m\u001b[0mBytesIO\u001b[0m\u001b[0;34m(\u001b[0m\u001b[0;34m)\u001b[0m\u001b[0;34m,\u001b[0m \u001b[0mformat\u001b[0m\u001b[0;34m=\u001b[0m\u001b[0;34m'png'\u001b[0m\u001b[0;34m,\u001b[0m \u001b[0mdpi\u001b[0m\u001b[0;34m=\u001b[0m\u001b[0mfig\u001b[0m\u001b[0;34m.\u001b[0m\u001b[0mdpi\u001b[0m\u001b[0;34m)\u001b[0m\u001b[0;34m\u001b[0m\u001b[0;34m\u001b[0m\u001b[0m\n",
      "\u001b[0;31mAttributeError\u001b[0m: module 'matplotlib.pyplot' has no attribute 'canvas'"
     ]
    },
    {
     "data": {
      "text/plain": [
       "<Figure size 576x396 with 0 Axes>"
      ]
     },
     "metadata": {},
     "output_type": "display_data"
    },
    {
     "data": {
      "image/png": "[encoded data removed]",
      "text/plain": [
       "<Figure size 720x576 with 1 Axes>"
      ]
     },
     "metadata": {},
     "output_type": "display_data"
    }
   ],
   "source": [
    "get_simulation_image(portfolio[\"tickers\"])"
   ]
  }
 ],
 "metadata": {
  "interpreter": {
   "hash": "5e9eeccf18d4a5cafc6d054b9b62e910cb06119f12d991de10e6f19a85262e76"
  },
  "kernelspec": {
   "display_name": "Python 3.6.10 64-bit ('djangoenv': conda)",
   "language": "python",
   "name": "python3"
  },
  "language_info": {
   "codemirror_mode": {
    "name": "ipython",
    "version": 3
   },
   "file_extension": ".py",
   "mimetype": "text/x-python",
   "name": "python",
   "nbconvert_exporter": "python",
   "pygments_lexer": "ipython3",
   "version": "3.6.10"
  },
  "orig_nbformat": 4
 },
 "nbformat": 4,
 "nbformat_minor": 2
}
