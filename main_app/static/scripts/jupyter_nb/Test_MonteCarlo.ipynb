{
 "cells": [
  {
   "cell_type": "code",
   "execution_count": 1,
   "metadata": {},
   "outputs": [],
   "source": [
    "import numpy as np\n",
    "import matplotlib.pyplot as plt"
   ]
  },
  {
   "cell_type": "code",
   "execution_count": 2,
   "metadata": {},
   "outputs": [],
   "source": [
    "stk_idx = np.array([])\n",
    "stk_return = np.array([])\n",
    "stk_risk = np.array([])\n",
    "\n",
    "stk_num = np.size(stk_idx) # How many stocks? "
   ]
  },
  {
   "cell_type": "markdown",
   "metadata": {},
   "source": [
    "# Continuous weights (0,1) Monte Carlo"
   ]
  },
  {
   "cell_type": "markdown",
   "metadata": {},
   "source": [
    "### Get Price at the end of each day"
   ]
  },
  {
   "cell_type": "code",
   "execution_count": 26,
   "metadata": {},
   "outputs": [
    {
     "data": {
      "text/html": [
       "<div>\n",
       "<style scoped>\n",
       "    .dataframe tbody tr th:only-of-type {\n",
       "        vertical-align: middle;\n",
       "    }\n",
       "\n",
       "    .dataframe tbody tr th {\n",
       "        vertical-align: top;\n",
       "    }\n",
       "\n",
       "    .dataframe thead th {\n",
       "        text-align: right;\n",
       "    }\n",
       "</style>\n",
       "<table border=\"1\" class=\"dataframe\">\n",
       "  <thead>\n",
       "    <tr style=\"text-align: right;\">\n",
       "      <th></th>\n",
       "      <th>date</th>\n",
       "      <th>ticker</th>\n",
       "      <th>adj_close</th>\n",
       "    </tr>\n",
       "    <tr>\n",
       "      <th>None</th>\n",
       "      <th></th>\n",
       "      <th></th>\n",
       "      <th></th>\n",
       "    </tr>\n",
       "  </thead>\n",
       "  <tbody>\n",
       "    <tr>\n",
       "      <th>0</th>\n",
       "      <td>2018-03-27</td>\n",
       "      <td>MSFT</td>\n",
       "      <td>89.47</td>\n",
       "    </tr>\n",
       "    <tr>\n",
       "      <th>1</th>\n",
       "      <td>2018-03-26</td>\n",
       "      <td>MSFT</td>\n",
       "      <td>93.78</td>\n",
       "    </tr>\n",
       "    <tr>\n",
       "      <th>2</th>\n",
       "      <td>2018-03-23</td>\n",
       "      <td>MSFT</td>\n",
       "      <td>87.18</td>\n",
       "    </tr>\n",
       "    <tr>\n",
       "      <th>3</th>\n",
       "      <td>2018-03-22</td>\n",
       "      <td>MSFT</td>\n",
       "      <td>89.79</td>\n",
       "    </tr>\n",
       "    <tr>\n",
       "      <th>4</th>\n",
       "      <td>2018-03-21</td>\n",
       "      <td>MSFT</td>\n",
       "      <td>92.48</td>\n",
       "    </tr>\n",
       "  </tbody>\n",
       "</table>\n",
       "</div>"
      ],
      "text/plain": [
       "           date ticker  adj_close\n",
       "None                             \n",
       "0    2018-03-27   MSFT      89.47\n",
       "1    2018-03-26   MSFT      93.78\n",
       "2    2018-03-23   MSFT      87.18\n",
       "3    2018-03-22   MSFT      89.79\n",
       "4    2018-03-21   MSFT      92.48"
      ]
     },
     "execution_count": 26,
     "metadata": {},
     "output_type": "execute_result"
    }
   ],
   "source": [
    "# import needed modules\n",
    "import quandl\n",
    "import pandas as pd\n",
    "import numpy as np\n",
    "import matplotlib.pyplot as plt\n",
    "\n",
    "# get adjusted closing prices of 5 selected companies with Quandl\n",
    "quandl.ApiConfig.api_key = 'smWr-zbs_z2qHLFTPEht'\n",
    "selected = ['GOOGL', 'MSFT', 'AMZN'] #, \\\n",
    "            #WB, ADBE, GOOGL, MSFT, FB, AMZN, AAPL, BRK.B, NEE, ALB, MTUM, \\\n",
    "            #TAN, TQQQ, QQQ, UPRO, IVV, XBI, VGT, FDN, ITA, TLT, MA]\n",
    "data = quandl.get_table(\n",
    "            'WIKI/PRICES', \n",
    "            ticker = selected,\n",
    "            qopts = { 'columns': [\n",
    "                'date', \n",
    "                'ticker', \n",
    "                'adj_close'\n",
    "            ]},\n",
    "            date = { 'gte': '2016-1-1', 'lte': '2019-4-30' }, \n",
    "            paginate=True\n",
    "            )\n",
    "\n",
    "data.head()"
   ]
  },
  {
   "cell_type": "code",
   "execution_count": 10,
   "metadata": {},
   "outputs": [
    {
     "data": {
      "text/html": [
       "<div>\n",
       "<style scoped>\n",
       "    .dataframe tbody tr th:only-of-type {\n",
       "        vertical-align: middle;\n",
       "    }\n",
       "\n",
       "    .dataframe tbody tr th {\n",
       "        vertical-align: top;\n",
       "    }\n",
       "\n",
       "    .dataframe thead tr th {\n",
       "        text-align: left;\n",
       "    }\n",
       "\n",
       "    .dataframe thead tr:last-of-type th {\n",
       "        text-align: right;\n",
       "    }\n",
       "</style>\n",
       "<table border=\"1\" class=\"dataframe\">\n",
       "  <thead>\n",
       "    <tr>\n",
       "      <th></th>\n",
       "      <th colspan=\"3\" halign=\"left\">adj_close</th>\n",
       "    </tr>\n",
       "    <tr>\n",
       "      <th>ticker</th>\n",
       "      <th>AMZN</th>\n",
       "      <th>GOOGL</th>\n",
       "      <th>MSFT</th>\n",
       "    </tr>\n",
       "    <tr>\n",
       "      <th>date</th>\n",
       "      <th></th>\n",
       "      <th></th>\n",
       "      <th></th>\n",
       "    </tr>\n",
       "  </thead>\n",
       "  <tbody>\n",
       "    <tr>\n",
       "      <th>2016-01-04</th>\n",
       "      <td>636.99</td>\n",
       "      <td>759.44</td>\n",
       "      <td>52.181598</td>\n",
       "    </tr>\n",
       "    <tr>\n",
       "      <th>2016-01-05</th>\n",
       "      <td>633.79</td>\n",
       "      <td>761.53</td>\n",
       "      <td>52.419653</td>\n",
       "    </tr>\n",
       "    <tr>\n",
       "      <th>2016-01-06</th>\n",
       "      <td>632.65</td>\n",
       "      <td>759.33</td>\n",
       "      <td>51.467434</td>\n",
       "    </tr>\n",
       "    <tr>\n",
       "      <th>2016-01-07</th>\n",
       "      <td>607.94</td>\n",
       "      <td>741.00</td>\n",
       "      <td>49.677262</td>\n",
       "    </tr>\n",
       "    <tr>\n",
       "      <th>2016-01-08</th>\n",
       "      <td>607.05</td>\n",
       "      <td>730.91</td>\n",
       "      <td>49.829617</td>\n",
       "    </tr>\n",
       "  </tbody>\n",
       "</table>\n",
       "</div>"
      ],
      "text/plain": [
       "           adj_close                   \n",
       "ticker          AMZN   GOOGL       MSFT\n",
       "date                                   \n",
       "2016-01-04    636.99  759.44  52.181598\n",
       "2016-01-05    633.79  761.53  52.419653\n",
       "2016-01-06    632.65  759.33  51.467434\n",
       "2016-01-07    607.94  741.00  49.677262\n",
       "2016-01-08    607.05  730.91  49.829617"
      ]
     },
     "execution_count": 10,
     "metadata": {},
     "output_type": "execute_result"
    }
   ],
   "source": [
    "\n",
    "# reorganise data pulled by setting date as index with\n",
    "date_price_table = data.set_index('date')\n",
    "\n",
    "# PIVOT Table: price of tickers by date\n",
    "table = date_price_table.pivot(columns='ticker')\n",
    "\n",
    "date_price_table.head()\n",
    "table.head()"
   ]
  },
  {
   "cell_type": "markdown",
   "metadata": {},
   "source": [
    "### Returns Table: Annual Return"
   ]
  },
  {
   "cell_type": "code",
   "execution_count": 23,
   "metadata": {},
   "outputs": [
    {
     "data": {
      "text/html": [
       "<div>\n",
       "<style scoped>\n",
       "    .dataframe tbody tr th:only-of-type {\n",
       "        vertical-align: middle;\n",
       "    }\n",
       "\n",
       "    .dataframe tbody tr th {\n",
       "        vertical-align: top;\n",
       "    }\n",
       "\n",
       "    .dataframe thead tr th {\n",
       "        text-align: left;\n",
       "    }\n",
       "\n",
       "    .dataframe thead tr:last-of-type th {\n",
       "        text-align: right;\n",
       "    }\n",
       "</style>\n",
       "<table border=\"1\" class=\"dataframe\">\n",
       "  <thead>\n",
       "    <tr>\n",
       "      <th></th>\n",
       "      <th colspan=\"3\" halign=\"left\">adj_close</th>\n",
       "    </tr>\n",
       "    <tr>\n",
       "      <th>ticker</th>\n",
       "      <th>AMZN</th>\n",
       "      <th>GOOGL</th>\n",
       "      <th>MSFT</th>\n",
       "    </tr>\n",
       "    <tr>\n",
       "      <th>date</th>\n",
       "      <th></th>\n",
       "      <th></th>\n",
       "      <th></th>\n",
       "    </tr>\n",
       "  </thead>\n",
       "  <tbody>\n",
       "    <tr>\n",
       "      <th>2018-03-21</th>\n",
       "      <td>-0.002931</td>\n",
       "      <td>-0.001643</td>\n",
       "      <td>-0.006979</td>\n",
       "    </tr>\n",
       "    <tr>\n",
       "      <th>2018-03-22</th>\n",
       "      <td>-0.023871</td>\n",
       "      <td>-0.037340</td>\n",
       "      <td>-0.029087</td>\n",
       "    </tr>\n",
       "    <tr>\n",
       "      <th>2018-03-23</th>\n",
       "      <td>-0.031436</td>\n",
       "      <td>-0.025258</td>\n",
       "      <td>-0.029068</td>\n",
       "    </tr>\n",
       "    <tr>\n",
       "      <th>2018-03-26</th>\n",
       "      <td>0.040319</td>\n",
       "      <td>0.026828</td>\n",
       "      <td>0.075705</td>\n",
       "    </tr>\n",
       "    <tr>\n",
       "      <th>2018-03-27</th>\n",
       "      <td>-0.037799</td>\n",
       "      <td>-0.044731</td>\n",
       "      <td>-0.045959</td>\n",
       "    </tr>\n",
       "  </tbody>\n",
       "</table>\n",
       "</div>"
      ],
      "text/plain": [
       "           adj_close                    \n",
       "ticker          AMZN     GOOGL      MSFT\n",
       "date                                    \n",
       "2018-03-21 -0.002931 -0.001643 -0.006979\n",
       "2018-03-22 -0.023871 -0.037340 -0.029087\n",
       "2018-03-23 -0.031436 -0.025258 -0.029068\n",
       "2018-03-26  0.040319  0.026828  0.075705\n",
       "2018-03-27 -0.037799 -0.044731 -0.045959"
      ]
     },
     "execution_count": 23,
     "metadata": {},
     "output_type": "execute_result"
    }
   ],
   "source": [
    "# calculate daily return\n",
    "returns_daily = table.pct_change()\n",
    "returns_daily.tail()"
   ]
  },
  {
   "cell_type": "code",
   "execution_count": null,
   "metadata": {},
   "outputs": [],
   "source": [
    "\n",
    "# calculate annual return \n",
    "# NOTE 50 weeks = 250 working days \n",
    "returns_annual = returns_daily.mean() * 250\n",
    "returns_annual.head()"
   ]
  },
  {
   "cell_type": "markdown",
   "metadata": {},
   "source": [
    "### Simulation Config: 50 k"
   ]
  },
  {
   "cell_type": "code",
   "execution_count": 24,
   "metadata": {},
   "outputs": [],
   "source": [
    "# get daily and covariance of returns of the stock\n",
    "cov_daily = returns_daily.cov()\n",
    "cov_annual = cov_daily * 250\n",
    "\n",
    "# empty lists to store returns, volatility and weights of imiginary portfolios\n",
    "port_returns = []\n",
    "port_volatility = []\n",
    "stock_weights = []\n",
    "\n",
    "# set the number of combinations for imaginary portfolios\n",
    "num_assets = len(selected)\n",
    "num_portfolios = 50000"
   ]
  },
  {
   "cell_type": "markdown",
   "metadata": {},
   "source": [
    "### Run Simulation\n",
    "- #### Generate weights: Random: 0-1, Random(num): Sum of random floats = 1\n",
    "- #### Generate weighted return & volatility\n",
    "- #### Add to lists"
   ]
  },
  {
   "cell_type": "code",
   "execution_count": null,
   "metadata": {},
   "outputs": [],
   "source": [
    "# populate the empty lists with each portfolios returns,risk and weights\n",
    "for single_portfolio in range(num_portfolios):\n",
    "    weights = np.random.random(num_assets)\n",
    "    weights /= np.sum(weights)\n",
    "    \n",
    "    returns = np.sum(weights * returns_annual)\n",
    "    volatility = np.sqrt(np.dot(weights.T, np.dot(cov_annual, weights)))\n",
    "\n",
    "    port_returns.append(returns)\n",
    "    port_volatility.append(volatility)\n",
    "    stock_weights.append(weights)"
   ]
  },
  {
   "cell_type": "markdown",
   "metadata": {},
   "source": [
    "### Create an object\n",
    "{\n",
    "    'Returns': [],\n",
    "    'Volatility': [],\n",
    "    'MSFT Weight': NUM \n",
    "}"
   ]
  },
  {
   "cell_type": "code",
   "execution_count": null,
   "metadata": {},
   "outputs": [],
   "source": [
    "\n",
    "# a dictionary for Returns and Risk values of each portfolio\n",
    "portfolio = {'Returns': port_returns,\n",
    "             'Volatility': port_volatility}\n",
    "\n",
    "# extend original dictionary to accomodate each ticker and weight in the portfolio\n",
    "for counter,symbol in enumerate(selected):\n",
    "    portfolio[symbol+' Weight'] = [Weight[counter] for Weight in stock_weights]"
   ]
  },
  {
   "cell_type": "markdown",
   "metadata": {},
   "source": [
    "### Create Dataframe"
   ]
  },
  {
   "cell_type": "code",
   "execution_count": null,
   "metadata": {},
   "outputs": [],
   "source": [
    "\n",
    "# make a nice dataframe of the extended dictionary\n",
    "df = pd.DataFrame(portfolio)\n",
    "\n",
    "# get better labels for desired arrangement of columns\n",
    "column_order = ['Returns', 'Volatility'] + [stock+' Weight' for stock in selected]\n",
    "\n",
    "# reorder dataframe columns\n",
    "df = df[column_order]"
   ]
  },
  {
   "cell_type": "markdown",
   "metadata": {},
   "source": [
    "### Plot data with Seaborn"
   ]
  },
  {
   "cell_type": "code",
   "execution_count": null,
   "metadata": {},
   "outputs": [],
   "source": [
    "\n",
    "# plot the efficient frontier with a scatter plot\n",
    "plt.style.use('seaborn')\n",
    "df.plot.scatter(x='Volatility', y='Returns', figsize=(10, 8), grid=True)\n",
    "\n",
    "returns = np.array(port_returns)\n",
    "risk = np.array(port_volatility)\n",
    "max_idx = np.where(returns / risk == np.max(returns / risk))[0][0]\n",
    "plt.plot(port_volatility[max_idx], port_returns[max_idx], 'o', color='C2')\n",
    "\n",
    "plt.xlabel('Volatility (Std. Deviation)')\n",
    "plt.ylabel('Expected Returns')\n",
    "plt.title('Efficient Frontier')\n",
    "plt.show()"
   ]
  },
  {
   "cell_type": "markdown",
   "metadata": {},
   "source": [
    "### Get Optimal"
   ]
  },
  {
   "cell_type": "code",
   "execution_count": 114,
   "metadata": {},
   "outputs": [
    {
     "data": {
      "text/plain": [
       "array([6.50973458e-01, 7.02718901e-05, 3.48956270e-01])"
      ]
     },
     "execution_count": 114,
     "metadata": {},
     "output_type": "execute_result"
    }
   ],
   "source": [
    "# Get Optimal: max_ratio = MAX(return / risk)\n",
    "returns = np.array(port_returns)\n",
    "risk = np.array(port_volatility)\n",
    "max_ratio = np.max(returns/risk)\n",
    "\n",
    "print(max_ratio)"
   ]
  },
  {
   "cell_type": "code",
   "execution_count": null,
   "metadata": {},
   "outputs": [],
   "source": [
    "# Get array with max weight\n",
    "max_idx = np.where(returns/risk == max_ratio)\n",
    "print(max_idx[0][0])\n",
    "\n",
    "# Get weights\n",
    "opt_weights = stock_weights[max_idx[0][0]]\n",
    "opt_weights"
   ]
  },
  {
   "cell_type": "code",
   "execution_count": 31,
   "metadata": {},
   "outputs": [
    {
     "data": {
      "text/plain": [
       "1.0000000000000002"
      ]
     },
     "execution_count": 31,
     "metadata": {},
     "output_type": "execute_result"
    }
   ],
   "source": [
    "np.sum(opt_weights)"
   ]
  },
  {
   "cell_type": "markdown",
   "metadata": {},
   "source": [
    "# Discrete Monte Carlo: integer no. of stocks"
   ]
  },
  {
   "cell_type": "code",
   "execution_count": 100,
   "metadata": {},
   "outputs": [
    {
     "data": {
      "text/plain": [
       "(array([ 100., 1000.,   50.]),\n",
       " [array([ 59., 247.,   4.]),\n",
       "  array([  5., 513.,  19.]),\n",
       "  array([12., 62., 36.]),\n",
       "  array([87., 98.,  1.]),\n",
       "  array([ 5., 48., 44.]),\n",
       "  array([  6., 185.,  36.]),\n",
       "  array([97.,  8.,  1.]),\n",
       "  array([ 22., 681.,   4.]),\n",
       "  array([21., 86., 31.]),\n",
       "  array([83., 98.,  3.])],\n",
       " array([91700., 94300., 90200., 98800., 97800., 96500., 99800., 98100.,\n",
       "        91600., 98800.]))"
      ]
     },
     "execution_count": 100,
     "metadata": {},
     "output_type": "execute_result"
    }
   ],
   "source": [
    "# stock prices\n",
    "stock_prices = np.array([1000, 100, 2000])\n",
    "port_value = 100000\n",
    "N_max = np.round(port_value / stock_prices)\n",
    "num_stocks = num_stocks_match(port_value, stock_prices, num_trials=10)\n",
    "N_max, num_stocks, np.matmul(num_stocks, stock_prices)"
   ]
  },
  {
   "cell_type": "code",
   "execution_count": 55,
   "metadata": {},
   "outputs": [],
   "source": [
    "def num_stocks_match(port_value, stock_prices, num_trials=1):\n",
    "    N_max = port_value / stock_prices\n",
    "    num_assets = np.size(stock_prices)\n",
    "    \n",
    "    def rand_num_stocks(num_assets, N_max):\n",
    "        stock_weights = np.zeros(num_assets)\n",
    "        for i in np.arange(num_assets):\n",
    "            stock_weights[i] = np.random.randint(0, N_max[i] + 1)\n",
    "        return stock_weights\n",
    "    \n",
    "    num_stocks = []\n",
    "    count = 0\n",
    "    \n",
    "    while count < num_trials:\n",
    "        num_stock_trial = rand_num_stocks(num_assets, N_max)\n",
    "        price_trial = np.sum(num_stock_trial * stock_prices)\n",
    "        \n",
    "        if price_trial >= 0.90 * port_value and price_trial <= port_value:\n",
    "            num_stocks.append(num_stock_trial)\n",
    "            count += 1\n",
    "            \n",
    "    return num_stocks"
   ]
  },
  {
   "cell_type": "code",
   "execution_count": 131,
   "metadata": {},
   "outputs": [],
   "source": [
    "# get adjusted closing prices of 5 selected companies with Quandl\n",
    "quandl.ApiConfig.api_key = 'smWr-zbs_z2qHLFTPEht'\n",
    "selected = ['GOOGL', 'MSFT', 'AMZN'] #, \\\n",
    "            #WB, ADBE, GOOGL, MSFT, FB, AMZN, AAPL, BRK.B, NEE, ALB, MTUM, \\\n",
    "            #TAN, TQQQ, QQQ, UPRO, IVV, XBI, VGT, FDN, ITA, TLT, MA]\n",
    "data = quandl.get_table('WIKI/PRICES', ticker = selected,\n",
    "                        qopts = { 'columns': ['date', 'ticker', 'adj_close'] },\n",
    "                        date = { 'gte': '2016-1-1', 'lte': '2019-4-30' }, paginate=True)\n",
    "\n",
    "# reorganise data pulled by setting date as index with\n",
    "# columns of tickers and their corresponding adjusted prices\n",
    "clean = data.set_index('date')\n",
    "table = clean.pivot(columns='ticker')\n",
    "\n",
    "# calculate daily and annual returns of the stocks\n",
    "returns_daily = table.pct_change()\n",
    "returns_annual = returns_daily.mean() * 250\n",
    "\n",
    "# get daily and covariance of returns of the stock\n",
    "cov_daily = returns_daily.cov()\n",
    "cov_annual = cov_daily * 250"
   ]
  },
  {
   "cell_type": "code",
   "execution_count": 74,
   "metadata": {},
   "outputs": [
    {
     "data": {
      "text/plain": [
       "1000"
      ]
     },
     "execution_count": 74,
     "metadata": {},
     "output_type": "execute_result"
    }
   ],
   "source": [
    "np.shape(num_stocks_trials)[0]"
   ]
  },
  {
   "cell_type": "code",
   "execution_count": 130,
   "metadata": {},
   "outputs": [],
   "source": [
    "def calc_volatility(num_stocks_trials, cov_annual, stock_prices):\n",
    "    num_trials = np.shape(num_stocks_trials)[0]\n",
    "    port_volatility = np.zeros(num_trials)\n",
    "    \n",
    "    weight_stocks_trials = num_to_weight(num_stocks_trials, stock_prices)\n",
    "    \n",
    "    for row in np.arange(num_trials):\n",
    "        stock_weights = weight_stocks_trials[row]\n",
    "        port_volatility[row] = np.sqrt(np.matmul(np.matmul(stock_weights, cov_annual), np.transpose(stock_weights)))\n",
    "        \n",
    "    return port_volatility"
   ]
  },
  {
   "cell_type": "code",
   "execution_count": 133,
   "metadata": {},
   "outputs": [],
   "source": [
    "def calc_returns(num_stocks_trials, returns_annual, stock_prices):\n",
    "    weight_stocks_trials = num_to_weight(num_stocks_trials, stock_prices)\n",
    "    port_returns = np.matmul(weight_stocks_trials, returns_annual)\n",
    "    return port_returns"
   ]
  },
  {
   "cell_type": "code",
   "execution_count": 121,
   "metadata": {},
   "outputs": [],
   "source": [
    "def num_to_weight(num_stocks_trials, stock_prices):\n",
    "    num_trials = np.shape(num_stocks_trials)[0]\n",
    "    weight_stocks_trials = []\n",
    "    \n",
    "    for row in np.arange(num_trials):\n",
    "        weight_stocks_trials.append((num_stocks_trials[row] * stock_prices) / np.sum(num_stocks_trials[row] * stock_prices))\n",
    "        \n",
    "    return weight_stocks_trials"
   ]
  },
  {
   "cell_type": "code",
   "execution_count": 127,
   "metadata": {},
   "outputs": [
    {
     "data": {
      "text/plain": [
       "array([0.3877551 , 0.02040816, 0.59183673])"
      ]
     },
     "execution_count": 127,
     "metadata": {},
     "output_type": "execute_result"
    }
   ],
   "source": [
    "weight_stocks_trials = num_to_weight(num_stocks_trials, stock_prices)\n",
    "weight_stocks_trials[0]"
   ]
  },
  {
   "cell_type": "code",
   "execution_count": 155,
   "metadata": {},
   "outputs": [
    {
     "data": {
      "image/png": "[encoded data removed]",
      "text/plain": [
       "<Figure size 640x480 with 1 Axes>"
      ]
     },
     "metadata": {},
     "output_type": "display_data"
    }
   ],
   "source": [
    "# stock prices\n",
    "stock_prices = np.array([1000, 100, 2000])\n",
    "port_value = 100000\n",
    "N_max = np.round(port_value / stock_prices)\n",
    "num_stocks_trials = num_stocks_match(port_value, stock_prices, num_trials=5000)\n",
    "\n",
    "# calculate port_returns\n",
    "port_returns = calc_returns(num_stocks_trials, returns_annual, stock_prices)\n",
    "port_volatility = calc_volatility(num_stocks_trials, cov_annual, stock_prices)\n",
    "\n",
    "# plot the efficient frontier with a scatter plot\n",
    "import matplotlib.pyplot as plt\n",
    "plt.style.use('default')\n",
    "ax, fig = plt.subplots()\n",
    "plt.plot(port_volatility, port_returns, 'o')\n",
    "max_idx = np.where(port_returns / port_volatility == np.max(port_returns / port_volatility))[0][0]\n",
    "plt.plot(port_volatility[max_idx], port_returns[max_idx], 'o', color='C3')\n",
    "plt.grid()\n",
    "plt.xlabel('Volatility (Std. Deviation)')\n",
    "plt.ylabel('Expected Returns')\n",
    "plt.title('Efficient Frontier')\n",
    "plt.show()"
   ]
  },
  {
   "cell_type": "code",
   "execution_count": 143,
   "metadata": {},
   "outputs": [
    {
     "data": {
      "text/plain": [
       "(array([65.,  0., 17.]), 99000.0)"
      ]
     },
     "execution_count": 143,
     "metadata": {},
     "output_type": "execute_result"
    }
   ],
   "source": [
    "returns = port_returns\n",
    "risk = port_volatility\n",
    "max_ratio = np.max(returns/risk)\n",
    "max_idx = np.where(returns/risk == max_ratio)\n",
    "opt_weights = num_stocks_trials[max_idx[0][0]]\n",
    "opt_weights, np.sum(opt_weights * stock_prices)"
   ]
  },
  {
   "cell_type": "code",
   "execution_count": null,
   "metadata": {},
   "outputs": [],
   "source": [
    "##### a dictionary for Returns and Risk values of each portfolio\n",
    "portfolio = {'Returns': port_returns,\n",
    "             'Volatility': port_volatility}\n",
    "\n",
    "# extend original dictionary to accomodate each ticker and weight in the portfolio\n",
    "for counter,symbol in enumerate(selected):\n",
    "    portfolio[symbol+' Weight'] = [Weight[counter] for Weight in stock_weights]\n",
    "\n",
    "# make a nice dataframe of the extended dictionary\n",
    "df = pd.DataFrame(portfolio)\n",
    "\n",
    "# get better labels for desired arrangement of columns\n",
    "column_order = ['Returns', 'Volatility'] + [stock+' Weight' for stock in selected]\n",
    "\n",
    "# reorder dataframe columns\n",
    "df = df[column_order]\n",
    "\n",
    "# plot the efficient frontier with a scatter plot\n",
    "plt.style.use('seaborn')\n",
    "df.plot.scatter(x='Volatility', y='Returns', figsize=(10, 8), grid=True)\n",
    "plt.xlabel('Volatility (Std. Deviation)')\n",
    "plt.ylabel('Expected Returns')\n",
    "plt.title('Efficient Frontier')\n",
    "plt.show()"
   ]
  }
 ],
 "metadata": {
  "kernelspec": {
   "display_name": "Python 3",
   "language": "python",
   "name": "python3"
  },
  "language_info": {
   "codemirror_mode": {
    "name": "ipython",
    "version": 3
   },
   "file_extension": ".py",
   "mimetype": "text/x-python",
   "name": "python",
   "nbconvert_exporter": "python",
   "pygments_lexer": "ipython3",
   "version": "3.6.10"
  }
 },
 "nbformat": 4,
 "nbformat_minor": 2
}
