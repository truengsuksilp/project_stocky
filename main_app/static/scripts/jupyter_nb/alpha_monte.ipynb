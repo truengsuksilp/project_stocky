{
 "cells": [
  {
   "cell_type": "markdown",
   "metadata": {},
   "source": [
    "# Alpha Vantage: Setup"
   ]
  },
  {
   "cell_type": "code",
   "execution_count": 1,
   "metadata": {},
   "outputs": [],
   "source": [
    "import pandas as pd\n",
    "import numpy as np\n",
    "import matplotlib.pyplot as plt"
   ]
  },
  {
   "cell_type": "code",
   "execution_count": 2,
   "metadata": {},
   "outputs": [],
   "source": [
    "#import alpha vantage\n",
    "from alpha_vantage.timeseries import TimeSeries"
   ]
  },
  {
   "cell_type": "code",
   "execution_count": 3,
   "metadata": {},
   "outputs": [],
   "source": [
    "#Config Alpha Vantage\n",
    "# ts = TimeSeries(key=\"3P9NBZQR6NNO2VEF\", output_format='pandas')\n",
    "ts = TimeSeries(key=\"3P9NBZQR6NNO2VEF\")"
   ]
  },
  {
   "cell_type": "markdown",
   "metadata": {},
   "source": [
    "#### Alpha Vantage: Quote Endpoint (Verify API)"
   ]
  },
  {
   "cell_type": "markdown",
   "metadata": {},
   "source": [
    "##### Test Quote Endpoint"
   ]
  },
  {
   "cell_type": "code",
   "execution_count": 4,
   "metadata": {},
   "outputs": [],
   "source": [
    "# TEST: Get JSON Data\n",
    "# ticker = \"MSFT\"\n",
    "# data, _ = ts.get_quote_endpoint(ticker)\n",
    "\n",
    "# price = data['05. price']\n",
    "# date = data['07. latest trading day']\n",
    "\n",
    "# print(f'{ticker}: {price}, {date}')\n",
    "\n",
    "### OUTPUT ###\n",
    "# MSFT: 329.4900, 2021-12-02 ###"
   ]
  },
  {
   "cell_type": "markdown",
   "metadata": {},
   "source": [
    "# Alpha Vantage: Get Table"
   ]
  },
  {
   "cell_type": "markdown",
   "metadata": {},
   "source": [
    "#### GET JSON DATA "
   ]
  },
  {
   "cell_type": "code",
   "execution_count": 5,
   "metadata": {},
   "outputs": [],
   "source": [
    "# INPUTS: Mock\n",
    "portfolio = {\n",
    "    \"tickers\": [\"MSFT\", \"AAPL\", \"GOOGL\"]\n",
    "}\n",
    "\n",
    "# FUNCTION: Get data\n",
    "def get_price_full(ticker):\n",
    "    data, _ = ts.get_daily_adjusted(ticker, 'full')\n",
    "    return data\n",
    "\n",
    "# GET JSON DATA INTO A DICTIONARY: {ticker: {}, ticker: {}}\n",
    "stocks_hist_prices = {}\n",
    "\n",
    "for ticker in portfolio[\"tickers\"]: \n",
    "    price_array = get_price_full(ticker)\n",
    "    stocks_hist_prices[ticker] = price_array"
   ]
  },
  {
   "cell_type": "markdown",
   "metadata": {},
   "source": [
    "##### VALIDATE: Stock prices | Historical of 1 stock"
   ]
  },
  {
   "cell_type": "code",
   "execution_count": 6,
   "metadata": {},
   "outputs": [
    {
     "name": "stdout",
     "output_type": "stream",
     "text": [
      "MSFT: 330.08\n",
      "AAPL: 164.77\n",
      "GOOGL: 2821.03\n"
     ]
    }
   ],
   "source": [
    "# TEST: Get price of first stock in portfolio\n",
    "for ticker in portfolio[\"tickers\"]:\n",
    "    price_ticker = stocks_hist_prices[ticker]['2021-12-01']['5. adjusted close']\n",
    "    print(f'{ticker}: {price_ticker}')"
   ]
  },
  {
   "cell_type": "code",
   "execution_count": 7,
   "metadata": {},
   "outputs": [],
   "source": [
    "# TEST: JSON -> DataFrame -> 1 year data\n",
    "# df_msft = pd.DataFrame.from_dict(stocks_hist_prices['MSFT'], orient='index')\n",
    "\n",
    "# # Post-Processing: Get 1 year data from one column\n",
    "# df_msft = df_msft[['5. adjusted close']]\n",
    "# df_msft = df_msft[:250]\n",
    "\n",
    "# df_msft.tail()"
   ]
  },
  {
   "cell_type": "markdown",
   "metadata": {},
   "source": [
    "#### Formatting: Generate dataframe: date | stock_1 |  ..  | stock_n"
   ]
  },
  {
   "cell_type": "code",
   "execution_count": 8,
   "metadata": {},
   "outputs": [
    {
     "data": {
      "text/html": [
       "<div>\n",
       "<style scoped>\n",
       "    .dataframe tbody tr th:only-of-type {\n",
       "        vertical-align: middle;\n",
       "    }\n",
       "\n",
       "    .dataframe tbody tr th {\n",
       "        vertical-align: top;\n",
       "    }\n",
       "\n",
       "    .dataframe thead th {\n",
       "        text-align: right;\n",
       "    }\n",
       "</style>\n",
       "<table border=\"1\" class=\"dataframe\">\n",
       "  <thead>\n",
       "    <tr style=\"text-align: right;\">\n",
       "      <th></th>\n",
       "      <th>ticker</th>\n",
       "      <th>adj_close</th>\n",
       "    </tr>\n",
       "  </thead>\n",
       "  <tbody>\n",
       "    <tr>\n",
       "      <th>2020-12-11</th>\n",
       "      <td>GOOGL</td>\n",
       "      <td>1774.80</td>\n",
       "    </tr>\n",
       "    <tr>\n",
       "      <th>2020-12-10</th>\n",
       "      <td>GOOGL</td>\n",
       "      <td>1767.65</td>\n",
       "    </tr>\n",
       "    <tr>\n",
       "      <th>2020-12-09</th>\n",
       "      <td>GOOGL</td>\n",
       "      <td>1777.86</td>\n",
       "    </tr>\n",
       "    <tr>\n",
       "      <th>2020-12-08</th>\n",
       "      <td>GOOGL</td>\n",
       "      <td>1811.33</td>\n",
       "    </tr>\n",
       "    <tr>\n",
       "      <th>2020-12-07</th>\n",
       "      <td>GOOGL</td>\n",
       "      <td>1817.03</td>\n",
       "    </tr>\n",
       "  </tbody>\n",
       "</table>\n",
       "</div>"
      ],
      "text/plain": [
       "           ticker  adj_close\n",
       "2020-12-11  GOOGL    1774.80\n",
       "2020-12-10  GOOGL    1767.65\n",
       "2020-12-09  GOOGL    1777.86\n",
       "2020-12-08  GOOGL    1811.33\n",
       "2020-12-07  GOOGL    1817.03"
      ]
     },
     "execution_count": 8,
     "metadata": {},
     "output_type": "execute_result"
    }
   ],
   "source": [
    "# Dataframes: Create dataframes then union into one long table\n",
    "data_frames = []\n",
    "\n",
    "for stock in stocks_hist_prices:\n",
    "\n",
    "    df = pd.DataFrame.from_dict(stocks_hist_prices[stock], orient='index')\n",
    "\n",
    "    # Get 1 year of data\n",
    "    df = df[:250]\n",
    "\n",
    "    # Get table with two columns: Ticker | Price\n",
    "    df['ticker'] = stock\n",
    "    df = df[['ticker','5. adjusted close']]\n",
    "\n",
    "    # Post-Processing\n",
    "    df.rename(columns={'5. adjusted close': 'adj_close'}, inplace=True, errors='raise')\n",
    "    df['adj_close'] = df['adj_close'].astype('float64')\n",
    "\n",
    "    # Add to array so we can union with other tables\n",
    "    data_frames.append(df)\n",
    "\n",
    "df_merged = pd.concat(data_frames)\n",
    "df_merged.tail()"
   ]
  },
  {
   "cell_type": "markdown",
   "metadata": {},
   "source": [
    "#### Create Pivot table"
   ]
  },
  {
   "cell_type": "code",
   "execution_count": 9,
   "metadata": {},
   "outputs": [
    {
     "data": {
      "text/html": [
       "<div>\n",
       "<style scoped>\n",
       "    .dataframe tbody tr th:only-of-type {\n",
       "        vertical-align: middle;\n",
       "    }\n",
       "\n",
       "    .dataframe tbody tr th {\n",
       "        vertical-align: top;\n",
       "    }\n",
       "\n",
       "    .dataframe thead th {\n",
       "        text-align: right;\n",
       "    }\n",
       "</style>\n",
       "<table border=\"1\" class=\"dataframe\">\n",
       "  <thead>\n",
       "    <tr style=\"text-align: right;\">\n",
       "      <th></th>\n",
       "      <th>date</th>\n",
       "      <th>ticker</th>\n",
       "      <th>adj_close</th>\n",
       "    </tr>\n",
       "  </thead>\n",
       "  <tbody>\n",
       "    <tr>\n",
       "      <th>0</th>\n",
       "      <td>2021-12-02</td>\n",
       "      <td>MSFT</td>\n",
       "      <td>329.49</td>\n",
       "    </tr>\n",
       "    <tr>\n",
       "      <th>1</th>\n",
       "      <td>2021-12-01</td>\n",
       "      <td>MSFT</td>\n",
       "      <td>330.08</td>\n",
       "    </tr>\n",
       "  </tbody>\n",
       "</table>\n",
       "</div>"
      ],
      "text/plain": [
       "         date ticker  adj_close\n",
       "0  2021-12-02   MSFT     329.49\n",
       "1  2021-12-01   MSFT     330.08"
      ]
     },
     "execution_count": 9,
     "metadata": {},
     "output_type": "execute_result"
    }
   ],
   "source": [
    "df_merged.reset_index(inplace=True)\n",
    "df_merged.rename(columns= {\"index\": \"date\"}, inplace=True, errors='raise')\n",
    "df_merged.head(2)"
   ]
  },
  {
   "cell_type": "code",
   "execution_count": 10,
   "metadata": {},
   "outputs": [
    {
     "data": {
      "text/html": [
       "<div>\n",
       "<style scoped>\n",
       "    .dataframe tbody tr th:only-of-type {\n",
       "        vertical-align: middle;\n",
       "    }\n",
       "\n",
       "    .dataframe tbody tr th {\n",
       "        vertical-align: top;\n",
       "    }\n",
       "\n",
       "    .dataframe thead tr th {\n",
       "        text-align: left;\n",
       "    }\n",
       "\n",
       "    .dataframe thead tr:last-of-type th {\n",
       "        text-align: right;\n",
       "    }\n",
       "</style>\n",
       "<table border=\"1\" class=\"dataframe\">\n",
       "  <thead>\n",
       "    <tr>\n",
       "      <th></th>\n",
       "      <th colspan=\"3\" halign=\"left\">adj_close</th>\n",
       "    </tr>\n",
       "    <tr>\n",
       "      <th>ticker</th>\n",
       "      <th>AAPL</th>\n",
       "      <th>GOOGL</th>\n",
       "      <th>MSFT</th>\n",
       "    </tr>\n",
       "    <tr>\n",
       "      <th>date</th>\n",
       "      <th></th>\n",
       "      <th></th>\n",
       "      <th></th>\n",
       "    </tr>\n",
       "  </thead>\n",
       "  <tbody>\n",
       "    <tr>\n",
       "      <th>2020-12-07</th>\n",
       "      <td>122.992075</td>\n",
       "      <td>1817.03</td>\n",
       "      <td>212.509777</td>\n",
       "    </tr>\n",
       "    <tr>\n",
       "      <th>2020-12-08</th>\n",
       "      <td>123.618216</td>\n",
       "      <td>1811.33</td>\n",
       "      <td>214.215488</td>\n",
       "    </tr>\n",
       "    <tr>\n",
       "      <th>2020-12-09</th>\n",
       "      <td>121.034140</td>\n",
       "      <td>1777.86</td>\n",
       "      <td>210.040462</td>\n",
       "    </tr>\n",
       "    <tr>\n",
       "      <th>2020-12-10</th>\n",
       "      <td>122.485198</td>\n",
       "      <td>1767.65</td>\n",
       "      <td>208.771096</td>\n",
       "    </tr>\n",
       "    <tr>\n",
       "      <th>2020-12-11</th>\n",
       "      <td>121.660282</td>\n",
       "      <td>1774.80</td>\n",
       "      <td>211.488333</td>\n",
       "    </tr>\n",
       "  </tbody>\n",
       "</table>\n",
       "</div>"
      ],
      "text/plain": [
       "             adj_close                     \n",
       "ticker            AAPL    GOOGL        MSFT\n",
       "date                                       \n",
       "2020-12-07  122.992075  1817.03  212.509777\n",
       "2020-12-08  123.618216  1811.33  214.215488\n",
       "2020-12-09  121.034140  1777.86  210.040462\n",
       "2020-12-10  122.485198  1767.65  208.771096\n",
       "2020-12-11  121.660282  1774.80  211.488333"
      ]
     },
     "execution_count": 10,
     "metadata": {},
     "output_type": "execute_result"
    }
   ],
   "source": [
    "df_pivot = df_merged.pivot(index='date', columns='ticker')\n",
    "df_pivot.head()"
   ]
  },
  {
   "cell_type": "markdown",
   "metadata": {},
   "source": [
    "#### Create tables for daily and annual returns"
   ]
  },
  {
   "cell_type": "code",
   "execution_count": 11,
   "metadata": {},
   "outputs": [],
   "source": [
    "# calculate daily and annual returns of the stocks\n",
    "returns_daily = df_pivot.pct_change()\n",
    "returns_annual = returns_daily.mean() * 250"
   ]
  },
  {
   "cell_type": "code",
   "execution_count": 2,
   "metadata": {},
   "outputs": [
    {
     "ename": "NameError",
     "evalue": "name 'returns_annual' is not defined",
     "output_type": "error",
     "traceback": [
      "\u001b[0;31m---------------------------------------------------------------------------\u001b[0m",
      "\u001b[0;31mNameError\u001b[0m                                 Traceback (most recent call last)",
      "\u001b[0;32m<ipython-input-2-354ab4092edc>\u001b[0m in \u001b[0;36m<module>\u001b[0;34m\u001b[0m\n\u001b[0;32m----> 1\u001b[0;31m \u001b[0mprint\u001b[0m\u001b[0;34m(\u001b[0m\u001b[0mreturns_annual\u001b[0m\u001b[0;34m)\u001b[0m\u001b[0;34m\u001b[0m\u001b[0;34m\u001b[0m\u001b[0m\n\u001b[0m",
      "\u001b[0;31mNameError\u001b[0m: name 'returns_annual' is not defined"
     ]
    }
   ],
   "source": [
    "print(returns_annual)"
   ]
  },
  {
   "cell_type": "markdown",
   "metadata": {},
   "source": [
    "# Continuous weights (0,1) Monte Carlo"
   ]
  },
  {
   "cell_type": "markdown",
   "metadata": {},
   "source": [
    "#### Get Raw Data"
   ]
  },
  {
   "cell_type": "code",
   "execution_count": 12,
   "metadata": {},
   "outputs": [],
   "source": [
    "\n",
    "# import quandl\n",
    "\n",
    "# quandl.ApiConfig.api_key = 'smWr-zbs_z2qHLFTPEht'\n",
    "\n",
    "# selected = ['GOOGL', 'MSFT', 'AMZN']\n",
    "# data = quandl.get_table('WIKI/PRICES', ticker = selected,\n",
    "#                         qopts = { 'columns': ['date', 'ticker', 'adj_close'] },\n",
    "#                         date = { 'gte': '2016-1-1', 'lte': '2019-4-30' }, paginate=True)\n",
    "\n",
    "# data.head(2)"
   ]
  },
  {
   "cell_type": "markdown",
   "metadata": {},
   "source": [
    "#### Create Pivot Table"
   ]
  },
  {
   "cell_type": "code",
   "execution_count": 13,
   "metadata": {},
   "outputs": [],
   "source": [
    "\n",
    "# reorganise data pulled by setting date as index with\n",
    "# columns of tickers and their corresponding adjusted prices\n",
    "# clean = data.set_index('date')\n",
    "# table = clean.pivot(columns='ticker')\n",
    "\n",
    "# table.head(2)\n"
   ]
  },
  {
   "cell_type": "markdown",
   "metadata": {},
   "source": [
    "#### Create tables for daily and annual returns"
   ]
  },
  {
   "cell_type": "code",
   "execution_count": 14,
   "metadata": {},
   "outputs": [],
   "source": [
    "\n",
    "# calculate daily returns\n",
    "# returns_daily = table.pct_change()\n",
    "# returns_daily.tail()"
   ]
  },
  {
   "cell_type": "code",
   "execution_count": 15,
   "metadata": {},
   "outputs": [],
   "source": [
    "# calculate annual returns\n",
    "# returns_annual = returns_daily.mean() * 250\n",
    "# returns_annual.tail()"
   ]
  },
  {
   "cell_type": "markdown",
   "metadata": {},
   "source": [
    "### Simulation Config: 50 k"
   ]
  },
  {
   "cell_type": "code",
   "execution_count": 16,
   "metadata": {},
   "outputs": [],
   "source": [
    "# get daily and covariance of returns of the stock\n",
    "cov_daily = returns_daily.cov()\n",
    "cov_annual = cov_daily * 250\n",
    "\n",
    "# empty lists to store returns, volatility and weights of imiginary portfolios\n",
    "port_returns = []\n",
    "port_volatility = []\n",
    "stock_weights = []\n",
    "\n",
    "# set the number of combinations for imaginary portfolios\n",
    "num_assets = len(portfolio[\"tickers\"])\n",
    "num_portfolios = 50000"
   ]
  },
  {
   "cell_type": "markdown",
   "metadata": {},
   "source": [
    "### Run Simulation\n",
    "- #### Generate weights: Random: 0-1, Random(num): Sum of random floats = 1\n",
    "- #### Generate weighted return & volatility\n",
    "- #### Add to lists"
   ]
  },
  {
   "cell_type": "code",
   "execution_count": 17,
   "metadata": {},
   "outputs": [],
   "source": [
    "# populate the empty lists with each portfolios returns,risk and weights\n",
    "for single_portfolio in range(num_portfolios):\n",
    "    weights = np.random.random(num_assets)\n",
    "    weights /= np.sum(weights)\n",
    "    \n",
    "    returns = np.sum(weights * returns_annual)\n",
    "    volatility = np.sqrt(np.dot(weights.T, np.dot(cov_annual, weights)))\n",
    "\n",
    "    port_returns.append(returns)\n",
    "    port_volatility.append(volatility)\n",
    "    stock_weights.append(weights)"
   ]
  },
  {
   "cell_type": "markdown",
   "metadata": {},
   "source": [
    "### Create an object\n",
    "##### { 'Returns': [], 'Volatility': [], 'MSFT Weight': NUM }"
   ]
  },
  {
   "cell_type": "code",
   "execution_count": 18,
   "metadata": {},
   "outputs": [],
   "source": [
    "\n",
    "# a dictionary for Returns and Risk values of each portfolio\n",
    "portfolio_stats = {'Returns': port_returns,\n",
    "             'Volatility': port_volatility}\n",
    "\n",
    "# extend original dictionary to accomodate each ticker and weight in the portfolio\n",
    "for counter,symbol in enumerate(portfolio[\"tickers\"]):\n",
    "    portfolio_stats[symbol+' Weight'] = [Weight[counter] for Weight in stock_weights]"
   ]
  },
  {
   "cell_type": "markdown",
   "metadata": {},
   "source": [
    "### Create Dataframe"
   ]
  },
  {
   "cell_type": "code",
   "execution_count": 19,
   "metadata": {},
   "outputs": [
    {
     "data": {
      "text/html": [
       "<div>\n",
       "<style scoped>\n",
       "    .dataframe tbody tr th:only-of-type {\n",
       "        vertical-align: middle;\n",
       "    }\n",
       "\n",
       "    .dataframe tbody tr th {\n",
       "        vertical-align: top;\n",
       "    }\n",
       "\n",
       "    .dataframe thead th {\n",
       "        text-align: right;\n",
       "    }\n",
       "</style>\n",
       "<table border=\"1\" class=\"dataframe\">\n",
       "  <thead>\n",
       "    <tr style=\"text-align: right;\">\n",
       "      <th></th>\n",
       "      <th>Returns</th>\n",
       "      <th>Volatility</th>\n",
       "      <th>MSFT Weight</th>\n",
       "      <th>AAPL Weight</th>\n",
       "      <th>GOOGL Weight</th>\n",
       "    </tr>\n",
       "  </thead>\n",
       "  <tbody>\n",
       "    <tr>\n",
       "      <th>0</th>\n",
       "      <td>0.377752</td>\n",
       "      <td>0.216924</td>\n",
       "      <td>0.639390</td>\n",
       "      <td>0.336611</td>\n",
       "      <td>0.023999</td>\n",
       "    </tr>\n",
       "    <tr>\n",
       "      <th>1</th>\n",
       "      <td>0.419757</td>\n",
       "      <td>0.204982</td>\n",
       "      <td>0.365039</td>\n",
       "      <td>0.461641</td>\n",
       "      <td>0.173320</td>\n",
       "    </tr>\n",
       "    <tr>\n",
       "      <th>2</th>\n",
       "      <td>0.478409</td>\n",
       "      <td>0.228489</td>\n",
       "      <td>0.019908</td>\n",
       "      <td>0.864298</td>\n",
       "      <td>0.115794</td>\n",
       "    </tr>\n",
       "    <tr>\n",
       "      <th>3</th>\n",
       "      <td>0.412034</td>\n",
       "      <td>0.207156</td>\n",
       "      <td>0.418566</td>\n",
       "      <td>0.457179</td>\n",
       "      <td>0.124256</td>\n",
       "    </tr>\n",
       "    <tr>\n",
       "      <th>4</th>\n",
       "      <td>0.380806</td>\n",
       "      <td>0.207449</td>\n",
       "      <td>0.573882</td>\n",
       "      <td>0.071809</td>\n",
       "      <td>0.354308</td>\n",
       "    </tr>\n",
       "  </tbody>\n",
       "</table>\n",
       "</div>"
      ],
      "text/plain": [
       "    Returns  Volatility  MSFT Weight  AAPL Weight  GOOGL Weight\n",
       "0  0.377752    0.216924     0.639390     0.336611      0.023999\n",
       "1  0.419757    0.204982     0.365039     0.461641      0.173320\n",
       "2  0.478409    0.228489     0.019908     0.864298      0.115794\n",
       "3  0.412034    0.207156     0.418566     0.457179      0.124256\n",
       "4  0.380806    0.207449     0.573882     0.071809      0.354308"
      ]
     },
     "execution_count": 19,
     "metadata": {},
     "output_type": "execute_result"
    }
   ],
   "source": [
    "\n",
    "# make a nice dataframe of the extended dictionary\n",
    "df = pd.DataFrame(portfolio_stats)\n",
    "\n",
    "# get better labels for desired arrangement of columns\n",
    "column_order = ['Returns', 'Volatility'] + [stock+' Weight' for stock in portfolio[\"tickers\"]]\n",
    "\n",
    "# reorder dataframe columns\n",
    "df = df[column_order]\n",
    "\n",
    "df.head()"
   ]
  },
  {
   "cell_type": "code",
   "execution_count": 20,
   "metadata": {},
   "outputs": [
    {
     "data": {
      "text/plain": [
       "Returns         0.466998\n",
       "Volatility      0.198353\n",
       "MSFT Weight     0.000614\n",
       "AAPL Weight     0.266318\n",
       "GOOGL Weight    0.733068\n",
       "sharpe_ratio    2.354373\n",
       "Name: 30327, dtype: float64"
      ]
     },
     "execution_count": 20,
     "metadata": {},
     "output_type": "execute_result"
    }
   ],
   "source": [
    "df['sharpe_ratio'] = df['Returns']/df['Volatility']\n",
    "\n",
    "# Get index with max Sharpe ratio\n",
    "max_index = df['sharpe_ratio'].idxmax()\n",
    "\n",
    "# Show weights\n",
    "df.iloc[max_index]\n"
   ]
  },
  {
   "cell_type": "markdown",
   "metadata": {},
   "source": [
    "### Plot data with Seaborn"
   ]
  },
  {
   "cell_type": "code",
   "execution_count": 21,
   "metadata": {},
   "outputs": [
    {
     "data": {
      "image/png": "[encoded data removed]",
      "text/plain": [
       "<Figure size 720x576 with 1 Axes>"
      ]
     },
     "metadata": {},
     "output_type": "display_data"
    }
   ],
   "source": [
    "\n",
    "# plot the efficient frontier with a scatter plot\n",
    "plt.style.use('seaborn')\n",
    "df.plot.scatter(x='Volatility', y='Returns', figsize=(10, 8), grid=True)\n",
    "\n",
    "returns = np.array(port_returns)\n",
    "risk = np.array(port_volatility)\n",
    "max_idx = np.where(returns / risk == np.max(returns / risk))[0][0]\n",
    "plt.plot(port_volatility[max_idx], port_returns[max_idx], 'o', color='C2')\n",
    "\n",
    "plt.xlabel('Volatility (Std. Deviation)')\n",
    "plt.ylabel('Expected Returns')\n",
    "plt.title('Efficient Frontier')\n",
    "plt.show()"
   ]
  },
  {
   "cell_type": "markdown",
   "metadata": {},
   "source": [
    "### Get optimal weights"
   ]
  },
  {
   "cell_type": "code",
   "execution_count": 22,
   "metadata": {},
   "outputs": [
    {
     "name": "stdout",
     "output_type": "stream",
     "text": [
      "2.3543728707329312\n"
     ]
    }
   ],
   "source": [
    "# Get Optimal: max_ratio = MAX(return / risk)\n",
    "returns = np.array(port_returns)\n",
    "risk = np.array(port_volatility)\n",
    "max_ratio = np.max(returns/risk)\n",
    "\n",
    "print(max_ratio)"
   ]
  },
  {
   "cell_type": "code",
   "execution_count": 23,
   "metadata": {},
   "outputs": [
    {
     "name": "stdout",
     "output_type": "stream",
     "text": [
      "30327\n"
     ]
    }
   ],
   "source": [
    "# Get array with max weight\n",
    "max_idx = np.where(returns/risk == max_ratio)\n",
    "\n",
    "print(max_idx[0][0])\n"
   ]
  },
  {
   "cell_type": "code",
   "execution_count": 24,
   "metadata": {},
   "outputs": [
    {
     "data": {
      "text/plain": [
       "array([6.14004596e-04, 2.66318494e-01, 7.33067501e-01])"
      ]
     },
     "execution_count": 24,
     "metadata": {},
     "output_type": "execute_result"
    }
   ],
   "source": [
    "\n",
    "# Get weights\n",
    "opt_weights = stock_weights[max_idx[0][0]]\n",
    "opt_weights"
   ]
  },
  {
   "cell_type": "markdown",
   "metadata": {},
   "source": [
    "#### Check: Sum of weights = 1"
   ]
  },
  {
   "cell_type": "code",
   "execution_count": 25,
   "metadata": {},
   "outputs": [
    {
     "data": {
      "text/plain": [
       "1.0"
      ]
     },
     "execution_count": 25,
     "metadata": {},
     "output_type": "execute_result"
    }
   ],
   "source": [
    "np.sum(opt_weights)"
   ]
  }
 ],
 "metadata": {
  "kernelspec": {
   "display_name": "Python 3",
   "language": "python",
   "name": "python3"
  },
  "language_info": {
   "codemirror_mode": {
    "name": "ipython",
    "version": 3
   },
   "file_extension": ".py",
   "mimetype": "text/x-python",
   "name": "python",
   "nbconvert_exporter": "python",
   "pygments_lexer": "ipython3",
   "version": "3.6.10"
  }
 },
 "nbformat": 4,
 "nbformat_minor": 2
}
